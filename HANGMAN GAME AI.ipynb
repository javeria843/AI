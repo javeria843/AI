import random
from colorama import Fore, Style

def display_progress(word, guessed_letters):
    """Displays the current progress of the guessed word."""
    return " ".join([letter if letter in guessed_letters else "_" for letter in word])

async def get_guess():
    """Gets a valid letter guess from the user."""
    guess = await input("Guess a letter: ")
    guess = guess.lower()  # Convert to lowercase
    if len(guess) == 1 and guess.isalpha():
        return guess
    else:
        print("Invalid input. Please enter a single letter.")
        return await get_guess()

async def hangman():
    words = ["python", "programming", "developer", "hangman", "algorithm"]
    secret_word = random.choice(words)
    guessed_letters = []
    attempts = 6

    hangman_stages = [
        """
           -----
           |   |
           O   |
          /|\\  |
          / \\  |
               |
        --------
        """,
        """
           -----
           |   |
           O   |
          /|\\  |
          /    |
               |
        --------
        """,
        """
           -----
           |   |
           O   |
          /|\\  |
               |
               |
        --------
        """,
        """
           -----
           |   |
           O   |
          /|   |
               |
               |
        --------
        """,
        """
           -----
           |   |
           O   |
           |   |
               |
               |
        --------
        """,
        """
           -----
           |   |
           O   |
               |
               |
               |
        --------
        """,
        """
           -----
           |   |
               |
               |
               |
               |
        --------
        """,
    ]

    print("Welcome to Hangman!")
    print("You have 6 attempts to guess the word.")

    while attempts > 0:
        print("\n" + display_progress(secret_word, guessed_letters))
        print(f"Remaining attempts: {attempts}")
        print(hangman_stages[6 - attempts])
        
        guess = await get_guess()

        if guess in guessed_letters:
            print("You already guessed that letter!")
        elif guess in secret_word:
            guessed_letters.append(guess)
            print(Fore.GREEN + "Correct!" + Style.RESET_ALL)
        else:
            guessed_letters.append(guess)
            attempts -= 1
            print(Fore.RED + "Incorrect!" + Style.RESET_ALL)

        # Check if the player has guessed the word
        if all(letter in guessed_letters for letter in secret_word):
            print(f"\nCongratulations! You guessed the word: {secret_word}")
            break
    else:
        print(f"\nGame over! The word was: {secret_word}")

# Run the game
await hangman()
