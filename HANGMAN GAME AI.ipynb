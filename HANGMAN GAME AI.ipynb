{
  "metadata": {
    "kernelspec": {
      "name": "python",
      "display_name": "Python (Pyodide)",
      "language": "python"
    },
    "language_info": {
      "codemirror_mode": {
        "name": "python",
        "version": 3
      },
      "file_extension": ".py",
      "mimetype": "text/x-python",
      "name": "python",
      "nbconvert_exporter": "python",
      "pygments_lexer": "ipython3",
      "version": "3.8"
    }
  },
  "nbformat_minor": 5,
  "nbformat": 4,
  "cells": [
    {
      "id": "8ffb757b-3d36-415d-91d2-ed54e91d89b6",
      "cell_type": "code",
      "source": "",
      "metadata": {
        "trusted": true
      },
      "outputs": [],
      "execution_count": null
    },
    {
      "id": "3fb0a8b1-3dff-45bc-94ef-e1ed557321e4",
      "cell_type": "code",
      "source": "import random\n\ndef display_progress(word, guessed_letters):\n    \"\"\"Displays the current progress of the guessed word.\"\"\"\n    return \" \".join([letter if letter in guessed_letters else \"_\" for letter in word])\n\ndef get_guess():\n    \"\"\"Gets a valid letter guess from the user.\"\"\"\n    guess = input(\"Guess a letter: \").lower()\n    if len(guess) == 1 and guess.isalpha():\n        return guess\n    else:\n        print(\"Invalid input. Please enter a single letter.\")\n        return get_guess()\n\ndef hangman():\n    words = [\"python\", \"programming\", \"developer\", \"hangman\", \"algorithm\"]\n    secret_word = random.choice(words)\n    guessed_letters = []\n    attempts = 6\n\n    print(\"Welcome to Hangman!\")\n    print(\"You have 6 attempts to guess the word.\")\n\n    while attempts > 0:\n        print(\"\\n\" + display_progress(secret_word, guessed_letters))\n        print(f\"Remaining attempts: {attempts}\")\n        \n        guess = get_guess()\n\n        if guess in guessed_letters:\n            print(\"You already guessed that letter!\")\n        elif guess in secret_word:\n            guessed_letters.append(guess)\n            print(\"Correct!\")\n        else:\n            guessed_letters.append(guess)\n            attempts -= 1\n            print(\"Incorrect!\")\n\n        # Check if the player has guessed the word\n        if all(letter in guessed_letters for letter in secret_word):\n            print(f\"\\nCongratulations! You guessed the word: {secret_word}\")\n            break\n    else:\n        print(f\"\\nGame over! The word was: {secret_word}\")\n\nif __name__ == \"__main__\":\n    hangman()\n    from random_word import RandomWords\nrw = RandomWords()\nsecret_word = rw.get_random_word()\nfrom colorama import Fore, Style\nprint(Fore.GREEN + \"Correct!\" + Style.RESET_ALL)\nprint(Fore.RED + \"Incorrect!\" + Style.RESET_ALL)\nhangman_stages = [\n    \"\"\"\n       -----\n       |   |\n       O   |\n      /|\\\\  |\n      / \\\\  |\n           |\n    --------\n    \"\"\",\n    # Add other stages for each decrement in attempts\n]\ndef display_hangman(attempts):\n    print(hangman_stages[6 - attempts])\n\n",
      "metadata": {
        "trusted": true,
        "tags": [],
        "editable": true,
        "slideshow": {
          "slide_type": ""
        }
      },
      "outputs": [
        {
          "name": "stdout",
          "output_type": "stream",
          "text": "Welcome to Hangman!\nYou have 6 attempts to guess the word.\n\n_ _ _ _ _ _ _ _ _\nRemaining attempts: 6\n"
        },
        {
          "ename": "<class 'AttributeError'>",
          "evalue": "'PyodideFuture' object has no attribute 'lower'",
          "traceback": [
            "\u001b[0;31m---------------------------------------------------------------------------\u001b[0m",
            "\u001b[0;31mAttributeError\u001b[0m                            Traceback (most recent call last)",
            "Cell \u001b[0;32mIn[2], line 49\u001b[0m\n\u001b[1;32m     46\u001b[0m         \u001b[38;5;28mprint\u001b[39m(\u001b[38;5;124mf\u001b[39m\u001b[38;5;124m\"\u001b[39m\u001b[38;5;130;01m\\n\u001b[39;00m\u001b[38;5;124mGame over! The word was: \u001b[39m\u001b[38;5;132;01m{\u001b[39;00msecret_word\u001b[38;5;132;01m}\u001b[39;00m\u001b[38;5;124m\"\u001b[39m)\n\u001b[1;32m     48\u001b[0m \u001b[38;5;28;01mif\u001b[39;00m \u001b[38;5;18m__name__\u001b[39m \u001b[38;5;241m==\u001b[39m \u001b[38;5;124m\"\u001b[39m\u001b[38;5;124m__main__\u001b[39m\u001b[38;5;124m\"\u001b[39m:\n\u001b[0;32m---> 49\u001b[0m     \u001b[43mhangman\u001b[49m\u001b[43m(\u001b[49m\u001b[43m)\u001b[49m\n\u001b[1;32m     50\u001b[0m     \u001b[38;5;28;01mfrom\u001b[39;00m \u001b[38;5;21;01mrandom_word\u001b[39;00m \u001b[38;5;28;01mimport\u001b[39;00m RandomWords\n\u001b[1;32m     51\u001b[0m rw \u001b[38;5;241m=\u001b[39m RandomWords()\n",
            "Cell \u001b[0;32mIn[2], line 29\u001b[0m, in \u001b[0;36mhangman\u001b[0;34m()\u001b[0m\n\u001b[1;32m     26\u001b[0m \u001b[38;5;28mprint\u001b[39m(\u001b[38;5;124m\"\u001b[39m\u001b[38;5;130;01m\\n\u001b[39;00m\u001b[38;5;124m\"\u001b[39m \u001b[38;5;241m+\u001b[39m display_progress(secret_word, guessed_letters))\n\u001b[1;32m     27\u001b[0m \u001b[38;5;28mprint\u001b[39m(\u001b[38;5;124mf\u001b[39m\u001b[38;5;124m\"\u001b[39m\u001b[38;5;124mRemaining attempts: \u001b[39m\u001b[38;5;132;01m{\u001b[39;00mattempts\u001b[38;5;132;01m}\u001b[39;00m\u001b[38;5;124m\"\u001b[39m)\n\u001b[0;32m---> 29\u001b[0m guess \u001b[38;5;241m=\u001b[39m \u001b[43mget_guess\u001b[49m\u001b[43m(\u001b[49m\u001b[43m)\u001b[49m\n\u001b[1;32m     31\u001b[0m \u001b[38;5;28;01mif\u001b[39;00m guess \u001b[38;5;129;01min\u001b[39;00m guessed_letters:\n\u001b[1;32m     32\u001b[0m     \u001b[38;5;28mprint\u001b[39m(\u001b[38;5;124m\"\u001b[39m\u001b[38;5;124mYou already guessed that letter!\u001b[39m\u001b[38;5;124m\"\u001b[39m)\n",
            "Cell \u001b[0;32mIn[2], line 9\u001b[0m, in \u001b[0;36mget_guess\u001b[0;34m()\u001b[0m\n\u001b[1;32m      7\u001b[0m \u001b[38;5;28;01mdef\u001b[39;00m \u001b[38;5;21mget_guess\u001b[39m():\n\u001b[1;32m      8\u001b[0m \u001b[38;5;250m    \u001b[39m\u001b[38;5;124;03m\"\"\"Gets a valid letter guess from the user.\"\"\"\u001b[39;00m\n\u001b[0;32m----> 9\u001b[0m     guess \u001b[38;5;241m=\u001b[39m \u001b[38;5;28;43minput\u001b[39;49m\u001b[43m(\u001b[49m\u001b[38;5;124;43m\"\u001b[39;49m\u001b[38;5;124;43mGuess a letter: \u001b[39;49m\u001b[38;5;124;43m\"\u001b[39;49m\u001b[43m)\u001b[49m\u001b[38;5;241;43m.\u001b[39;49m\u001b[43mlower\u001b[49m()\n\u001b[1;32m     10\u001b[0m     \u001b[38;5;28;01mif\u001b[39;00m \u001b[38;5;28mlen\u001b[39m(guess) \u001b[38;5;241m==\u001b[39m \u001b[38;5;241m1\u001b[39m \u001b[38;5;129;01mand\u001b[39;00m guess\u001b[38;5;241m.\u001b[39misalpha():\n\u001b[1;32m     11\u001b[0m         \u001b[38;5;28;01mreturn\u001b[39;00m guess\n",
            "\u001b[0;31mAttributeError\u001b[0m: 'PyodideFuture' object has no attribute 'lower'"
          ],
          "output_type": "error"
        }
      ],
      "execution_count": 2
    },
    {
      "id": "9c991906-8950-4506-b800-7cea4d1db6fb",
      "cell_type": "code",
      "source": "",
      "metadata": {
        "trusted": true
      },
      "outputs": [],
      "execution_count": null
    },
    {
      "id": "c8073f71-9d5d-4f57-a342-f58f4d88037a",
      "cell_type": "code",
      "source": "",
      "metadata": {
        "trusted": true
      },
      "outputs": [],
      "execution_count": null
    }
  ]
}